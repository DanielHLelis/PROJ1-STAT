{
 "cells": [
  {
   "attachments": {},
   "cell_type": "markdown",
   "metadata": {},
   "source": [
    "# Projeto 1 - Confiabilidade"
   ]
  },
  {
   "attachments": {},
   "cell_type": "markdown",
   "metadata": {},
   "source": [
    "## Autores\n",
    "\n",
    "- D. H. Lelis - 12543822"
   ]
  },
  {
   "attachments": {},
   "cell_type": "markdown",
   "metadata": {},
   "source": [
    "## Orientações\n",
    "\n",
    "Boa parte do código fonte foi organizado dentro de um módulo chamado `common`, disponibilizado juntamente ao notebook.\n",
    "Alguns tópicos de atenção:\n",
    "\n",
    "- **Dependências**\n",
    "  - Neste notebook tem um bloco de código comentado que serve para instalar automaticamente as dependências, recomenda-se\n",
    "    criar um ambiente virtual e instalá-las desta forma.\n",
    "  - Caso crie uma venv, não esqueça de instalar o `jupyter` e/ou `ipykernel`.\n",
    "  - **Importante:** *Nem todas as dependências utilizadas são comumente disponibilizadas\n",
    "    em ambientes de execução como Google Colaboratory ou Anaconda.*\n",
    "- **Configuração**\n",
    "  - Caso seja necessário, é possível adequar algumas configurações para seu ambiente de execução (verificar `common/consts.py`\n",
    "    e o bloco *\"Configuração\"*)\n",
    "- **Simulações**\n",
    "  - Por questões de performance, testamos desenvolver o simulador em algumas tecnologias. A versão mais completa e performática\n",
    "    é a feita em *rust*, disponível em `/simulators/rust`, porém a versão em *Python*, principalmente usando *pypy*, consegue\n",
    "    \"quebrar o galho\", estando disponível em `/simulators/python`.\n",
    "  - Os resultados das simulações são armazenados em arquivos `.json` dentro da pasta `/datasets`. O notebook pode chamar os simuladores\n",
    "    para gerar novas simulações caso não exista uma simulação com os parâmetros determinados. O simulador utilizado pode ser definido\n",
    "    através das configurações."
   ]
  },
  {
   "attachments": {},
   "cell_type": "markdown",
   "metadata": {},
   "source": [
    "### Dependências"
   ]
  },
  {
   "cell_type": "code",
   "execution_count": 1,
   "metadata": {},
   "outputs": [],
   "source": [
    "# Instalação de dependências (descomentar linhas abaixo para instalar)\n",
    "import sys\n",
    "\n",
    "# !\"{sys.executable}\" -m pip install --upgrade pip\n",
    "# !\"{sys.executable}\" -m pip install --upgrade pandas\n",
    "# !\"{sys.executable}\" -m pip install --upgrade numpy\n",
    "# !\"{sys.executable}\" -m pip install --upgrade scipy\n",
    "# !\"{sys.executable}\" -m pip install --upgrade sympy\n",
    "# !\"{sys.executable}\" -m pip install --upgrade matplotlib\n",
    "# !\"{sys.executable}\" -m pip install --upgrade seaborn\n",
    "# !\"{sys.executable}\" -m pip install --upgrade plotly"
   ]
  },
  {
   "cell_type": "code",
   "execution_count": 148,
   "metadata": {},
   "outputs": [],
   "source": [
    "# Carregamento das dependências utilizadas\n",
    "\n",
    "import sys\n",
    "import os\n",
    "import json\n",
    "import math\n",
    "import collections\n",
    "import importlib\n",
    "\n",
    "import numpy as np\n",
    "import scipy as sc\n",
    "import scipy.stats as st\n",
    "import sympy as sp\n",
    "import pandas as pd\n",
    "\n",
    "import matplotlib.pyplot as plt\n",
    "import seaborn as sns\n",
    "import plotly.express as px\n",
    "import plotly.graph_objects as go\n",
    "from plotly.subplots import make_subplots\n",
    "\n",
    "from typing import List, Tuple, Callable, Dict"
   ]
  },
  {
   "attachments": {},
   "cell_type": "markdown",
   "metadata": {},
   "source": [
    "### Constantes\n",
    "\n",
    "Verificar o arquivo `common/consts.py` para mais detalhes."
   ]
  },
  {
   "attachments": {},
   "cell_type": "markdown",
   "metadata": {},
   "source": [
    "### Utilidades\n",
    "\n",
    "Verificar os códigos em `common/` para mais detalhes."
   ]
  },
  {
   "cell_type": "code",
   "execution_count": null,
   "metadata": {},
   "outputs": [],
   "source": []
  },
  {
   "attachments": {},
   "cell_type": "markdown",
   "metadata": {},
   "source": [
    "## Enunciado\n",
    "\n",
    "### Projeto 1 - Confiabilidade\n",
    "\n",
    "Um sistema requer $n$ máquinas para funcionar. Elas quebram, a cada unidade de tempo (um minuto), com\n",
    "probabilidade $p_0$. Para garantir o funcionamento confiável do sistema, $s$ máquinas adicionais são mantidas para\n",
    "reposição. Quando uma máquina quebra, ela é substituída por uma em bom estado e enviada para reparo. O\n",
    "tempo de reparo de cada máquina  ́e $t_R$ (fixo).\n",
    "\n",
    "Deseja-se estudar a variável aleatória “tempo de colapso” do sistema, isto  ́e, o tempo $T$ que o sistema funciona\n",
    "até dever ser parado porque não há $n$ máquinas disponíveis. Quanto vale $E(T)$? Qual é a distribuição de $T$?\n",
    "Como depende a variável $T$ do número de máquinas reserva $s$? Mais em concreto, quantas máquinas adicionais\n",
    "são necessárias para que $\\text{Prob}\\{T < 10000\\}$ seja menor que 1%?\n",
    "\n",
    "Faixas sugeridas de valores: $n = 10 − 100$, $p_0 = 0.001 − 0.01$, $s = 10 − 100$.\n",
    "\n",
    "1. Quais das perguntas acima conseguem responder analiticamente? Nos casos que possa, qual é o resultado?\n",
    "2. Os resultados do simulador são consistentes com as estimações analíticas no caso $\\beta = 0$?\n",
    "3. No simulador, é fácil inserir a amostragem de outras variáveis aleatórias. Estudar por exemplo a variável $Z$ que\n",
    "podemos chamar “tempo de alerta”, definido como o tempo em que o número de máquinas em reparação atinge\n",
    "80% do valor disponível $s$ (ou outra porcentagem a escolher). Como é a distribuição de probabilidade de $Z$?\n",
    "4. São $Z$ e $T$ variáveis independentes? É possível predizer em alguma medida o tempo de colapso uma vez que foi\n",
    "atingido o tempo de alerta? Se uma parada ordenada do sistema requer o tempo $t_R$ , pode sugerir uma estratégia\n",
    "de manejo que “garanta” chegar a parada ordenada com 99% de probabilidade?\n",
    "1. É lógico que as máquinas envelheçam. A probabilidade de cada máquina de falhar pode crescer linearmente com\n",
    "o tempo, seguindo $p(k) = p_0 + \\beta t_{f}(k)$ onde $k$ identifica a máquina e $t_f(k)$ o tempo que ela leva em funcionamento\n",
    "desde o  ́ultimo reparo. No caso de $β \\ne 0$  ́e impossível realizar cálculos analíticos sobre a variável $T$. Para isto,\n",
    "desenvolver um pequeno código de simulação do processo. Esse caso é mais complexo que o original, porque é\n",
    "necessário armazenar informação específica para cada máquina (o tempo que leva trabalhando). Mesmo assim,\n",
    "trata-se apenas de uma adequada combinação de variáveis Bernoulli que o computador sabe simular."
   ]
  },
  {
   "attachments": {},
   "cell_type": "markdown",
   "metadata": {},
   "source": [
    "## Parte 1 - Modelo Analítico e Validação da Simulação"
   ]
  },
  {
   "attachments": {},
   "cell_type": "markdown",
   "metadata": {},
   "source": [
    "### Uma simplificação do problema\n",
    "\n",
    "Para encontrarmos uma solução analítica do problema, sentimos a necessidade de fazer algumas simplificações no problema, sendo elas: $t_R = \\infty$ e $\\beta = 0$. Dadas essas simplificações, conseguimos modelar nosso problema na forma de uma distribuição binomial negativa.\n",
    "\n",
    "A representação mais comum da binomial negativa é dada por:\n",
    "\n",
    "$$\n",
    "p_1(t; s, p) = \\begin{pmatrix}t + s - 1 \\\\ s -1\\end{pmatrix} p^{s} (1 - p)^{t}\n",
    "$$\n",
    "\n",
    "Essa representação mede, dado um número fixo $s$ de sucessos desejados e uma probabilidade $p$, a probabilidade de obtermos $t$ falhas até atingir o último sucesso desejado.\n",
    "\n",
    "Sabendo disso, podemos fazer algumas adaptações para melhor encaixá-la no problema. Primeiramente, ao invés de medirmos o número de falhas, vamos medir o número total de eventos necessários. Além disso, estamos interessados no ponto crítico do sistema, ou seja, quando atingimos $s_0 + 1$ falhas:\n",
    "\n",
    "$$\n",
    "p_2(t; s_0, p) = p_1(t-s_0-1; s_0 + 1, p) = \\begin{pmatrix}t - 1 \\\\ s_0 \\end{pmatrix} p^{s_0 + 1} (1 - p)^{t - s_0 - 1}\n",
    "$$\n",
    "\n",
    "Além disso, notemos que o problema considera um conjunto de $n$ máquinas em funcionamento de maneira simultânea. Podemos representar isso fazendo um agrupamento de $n$ eventos na nossa PMF, ficando da seguinte forma: ($k$ é o $k$-ésimo ciclo de execução)\n",
    "\n",
    "$$\n",
    "p_3(k; n, s_0, p) = \\sum^{n}_{i = 1} p_2(n \\cdot (k - 1) + i; s_0, p)\n",
    "$$\n",
    "\n",
    "Uma representação alternativa do formulado em $p_3$ é utilizando a CDF da binomial negativa, que, quando adequada ao nosso problema, pode ser representada da seguinte forma:\n",
    "\n",
    "$$\n",
    "I_{1-p}(s_0 + 1, k \\cdot n - (s_0 + 1) + 1) = I_{1-p}(s_0 + 1, k \\cdot n - s_0)\n",
    "$$\n",
    "\n",
    "*Obs.: $I$ corresponde à função beta incompleta regularizada* \n",
    "\n",
    "Além disso, o valor estimado pode ser representado da seguinte forma:\n",
    "\n",
    "$$\n",
    "E = \\frac{(1 - p)(s_0 + 1) + p(s_0 + 1)}{pn} \n",
    "$$"
   ]
  },
  {
   "attachments": {},
   "cell_type": "markdown",
   "metadata": {},
   "source": [
    "### Comparando a solução analítica com a simulação\n",
    "\n"
   ]
  },
  {
   "cell_type": "code",
   "execution_count": 157,
   "metadata": {},
   "outputs": [],
   "source": [
    "from common.models import tnbinom # Solução analítica\n",
    "from common.simulation import load_or_generate_simulation, build_pmf # Simulação\n",
    "\n",
    "importlib.reload(sys.modules['common.models'])\n",
    "importlib.reload(sys.modules['common.consts'])\n",
    "importlib.reload(sys.modules['common.simulation'])\n"
   ]
  },
  {
   "cell_type": "code",
   "execution_count": 172,
   "metadata": {},
   "outputs": [
    {
     "data": {
      "application/vnd.plotly.v1+json": {
       "config": {
        "plotlyServerURL": "https://plot.ly"
       },
       "data": [
        {
         "name": "Modelo",
         "type": "bar",
         "x": [
          32,
          33,
          34,
          35,
          36,
          37,
          38,
          39,
          40,
          41,
          42,
          43,
          44,
          45,
          46,
          47,
          48,
          49,
          50,
          51,
          52,
          53,
          54,
          55,
          56,
          57,
          58,
          59,
          60,
          61,
          62,
          63,
          64,
          65,
          66,
          67,
          68,
          69,
          70,
          71,
          72,
          73,
          74,
          75,
          76,
          77,
          78,
          79,
          80,
          81,
          82,
          83,
          84,
          85,
          86,
          87,
          88,
          89,
          90,
          91,
          92,
          93,
          94,
          95,
          96,
          97,
          98,
          99,
          100,
          101,
          102,
          103,
          104,
          105,
          106,
          107,
          108,
          109,
          110,
          111,
          112,
          113,
          114,
          115,
          116,
          117,
          118,
          119,
          120,
          121,
          122,
          123,
          124,
          125,
          126,
          127,
          128,
          129,
          130,
          131,
          132,
          133,
          134,
          135,
          136,
          137,
          138,
          139,
          140,
          141,
          142,
          143,
          144,
          145,
          146,
          147,
          148,
          149,
          150,
          151,
          152,
          153,
          154,
          155,
          156,
          157,
          158,
          159,
          160,
          161,
          162,
          163,
          164,
          165,
          166,
          167,
          168,
          169,
          170,
          171,
          172,
          173,
          174,
          175,
          176,
          177,
          178,
          179,
          180,
          181,
          182,
          183,
          184,
          185,
          186,
          187,
          188,
          189,
          190,
          191,
          192,
          193,
          194,
          195,
          196,
          197,
          198,
          199,
          200,
          201,
          202,
          203,
          204,
          205,
          206,
          207,
          208,
          209,
          210,
          211,
          212,
          213,
          214,
          215,
          216,
          217,
          218,
          219,
          220,
          221,
          222,
          223,
          224,
          225,
          226,
          227,
          228,
          229,
          230,
          231,
          232,
          233,
          234,
          235,
          236,
          237,
          238,
          239,
          240,
          241,
          242,
          243,
          244,
          245,
          246,
          247,
          248,
          249,
          250,
          251,
          252,
          253
         ],
         "y": [
          1.4413593311962608e-7,
          2.463059952375231e-7,
          4.1094072077291313e-7,
          6.703449143441295e-7,
          0.000001070516140784961,
          0.0000016756290939826921,
          0.000002573502562484565,
          0.000003882113941782935,
          0.000005757186736115627,
          0.00000840082547669776,
          0.000012071110985620212,
          0.000017092498900600023,
          0.000023866788722836054,
          0.00003288435304413107,
          0.00004473524136637291,
          0.00006011970475196657,
          0.00007985763124481927,
          0.00010489634217240943,
          0.00013631618014558865,
          0.0001753333240548227,
          0.00022329929678372695,
          0.0002816966886206552,
          0.00035213070296417215,
          0.00043631623899612596,
          0.0005360603552914065,
          0.0006532401043869236,
          0.0007897758856816113,
          0.0009476006264888908,
          0.0011286252619941949,
          0.0013347011375720393,
          0.0015675800949190156,
          0.001828873120844536,
          0.0021200085292470954,
          0.002442190708770248,
          0.0027963604980930945,
          0.003183158246315322,
          0.0036028905773725813,
          0.0040555018061312975,
          0.004540550852283708,
          0.005057194370020046,
          0.005604176661241264,
          0.006179826773037833,
          0.006782063002005914,
          0.007408404844627168,
          0.008055992250307136,
          0.008721611857409725,
          0.0094017297279576,
          0.010092529948194312,
          0.010789958333783345,
          0.011489770373072958,
          0.01218758246171132,
          0.012878925428172955,
          0.01355929932278072,
          0.014224228442063723,
          0.014869315584501715,
          0.01549029458092452,
          0.01608308021056165,
          0.01664381469904136,
          0.017168910094285,
          0.01765508592681605,
          0.018099401679032266,
          0.01849928371004956,
          0.018852546405548773,
          0.01915740744260231,
          0.01941249717499381,
          0.019616862252689708,
          0.019769963687888185,
          0.019871669667878202,
          0.019922243490625494,
          0.019922327061806303,
          0.01987292044156488,
          0.019775357965567824,
          0.019631281488283435,
          0.019442611307421153,
          0.01921151532796379,
          0.018940377013233287,
          0.018631762650125536,
          0.018288388427292808,
          0.01791308778997724,
          0.017508779494740934,
          0.017078436742829783,
          0.016625057723621148,
          0.016151637850748735,
          0.015661143924177907,
          0.015156490402725585,
          0.014640517924159597,
          0.014115974164828012,
          0.013585497088385636,
          0.013051600594099105,
          0.01251666253979839,
          0.011982915083057632,
          0.011452437256779503,
          0.010927149672075281,
          0.010408811222138568,
          0.009899017645591018,
          0.009399201796355746,
          0.008910635459259205,
          0.008434432546004308,
          0.00797155350459766,
          0.0075228107764315115,
          0.007088875138686469,
          0.006670282775201695,
          0.006267442926126435,
          0.0058806459752028676,
          0.00551007184313294,
          0.005155798565867986,
          0.004817810947568363,
          0.004496009189175017,
          0.004190217404804158,
          0.003900191949335704,
          0.0036256294914565005,
          0.0033661747769072902,
          0.003121428036659037,
          0.002890952004123208,
          0.0026742785142177617,
          0.0024709146651206667,
          0.002280348530818618,
          0.0021020544190885507,
          0.0019354976753355928,
          0.0017801390377669333,
          0.001635438553730268,
          0.0015008590707192664,
          0.0013758693185847923,
          0.0012599466019317023,
          0.001152579123572662,
          0.0010532679613004573,
          0.0009615287211773187,
          0.0008768928910727318,
          0.0007989089183578102,
          0.0007271430355311956,
          0.0006611798571528416,
          0.0006006227708401272,
          0.0005450941442745196,
          0.0004942353692129008,
          0.00044770676242870293,
          0.0004051873423541897,
          0.0003663744989833424,
          0.0003309835733486303,
          0.0002987473616251191,
          0.0002694155576597929,
          0.0002427541464877678,
          0.00021854476019290584,
          0.00019658400630852158,
          0.00017668277784257944,
          0.0001586655529573463,
          0.00014236969134039521,
          0.0001276447333752756,
          0.00011435170735776399,
          0.00010236244920800823,
          0.00009155893839968032,
          0.00008183265316328858,
          0.00007308394742018188,
          0.00006522145136413799,
          0.00005816149712592191,
          0.00005182757052972232,
          0.00004614978957556404,
          0.00004106440995517153,
          0.00003651335762677554,
          0.000032443788233445157,
          0.000028807672946180544,
          0.000025561410143781992,
          0.000022665462203102764,
          0.000020084016562521163,
          0.00001778467013532377,
          0.000015738136085336644,
          0.000013917971931927136,
          0.000012300327922963685,
          0.000010863714600196746,
          0.000009588788479729293,
          0.000008458154778888986,
          0.000007456186138179542,
          0.0000065688563115367296,
          0.0000057835878284644784,
          0.000005089112666556812,
          0.0000044753450113413,
          0.000003933265221363751,
          0.000003454814159150818,
          0.000003032797092427876,
          0.0000026607964141291043,
          0.0000023330924738038426,
          0.0000020445918565701586,
          0.0000017907624884418267,
          0.0000015675749883737066,
          0.000001371449727506935,
          0.0000011992090946767512,
          0.0000010480345041432186,
          9.15427716630672e-7,
          7.991760780596371e-7,
          6.973213117993271e-7,
          6.081315298570881e-7,
          5.300761561712286e-7,
          4.6180348111978014e-7,
          4.0212059054743086e-7,
          3.4997543510415914e-7,
          3.0444082654795215e-7,
          2.6470016696241324e-7,
          2.3003473465398545e-7,
          1.9981236690148644e-7,
          1.734773948123992e-7,
          1.505416993757039e-7,
          1.3057677046903478e-7,
          1.1320666215606411e-7,
          9.810174817364374e-8,
          8.49731911301397e-8,
          7.356804768639994e-8,
          6.366493993556892e-8,
          5.5070230400753975e-8,
          4.761464459019355e-8,
          4.11502909443818e-8,
          3.554803333137602e-8,
          3.069517604461296e-8,
          2.6493425577972013e-8,
          2.2857097338248355e-8,
          1.971153894520755e-8,
          1.6991744900513716e-8,
          1.4641140212743738e-8,
          1.261051307736882e-8,
          1.0857078956407949e-8,
          9.343660408426922e-9,
          8.0379688094227e-9,
          6.911975700550167e-9,
          5.941362919325191e-9
         ]
        },
        {
         "name": "Simulação",
         "type": "bar",
         "x": [
          32,
          33,
          34,
          35,
          36,
          37,
          38,
          39,
          40,
          41,
          42,
          43,
          44,
          45,
          46,
          47,
          48,
          49,
          50,
          51,
          52,
          53,
          54,
          55,
          56,
          57,
          58,
          59,
          60,
          61,
          62,
          63,
          64,
          65,
          66,
          67,
          68,
          69,
          70,
          71,
          72,
          73,
          74,
          75,
          76,
          77,
          78,
          79,
          80,
          81,
          82,
          83,
          84,
          85,
          86,
          87,
          88,
          89,
          90,
          91,
          92,
          93,
          94,
          95,
          96,
          97,
          98,
          99,
          100,
          101,
          102,
          103,
          104,
          105,
          106,
          107,
          108,
          109,
          110,
          111,
          112,
          113,
          114,
          115,
          116,
          117,
          118,
          119,
          120,
          121,
          122,
          123,
          124,
          125,
          126,
          127,
          128,
          129,
          130,
          131,
          132,
          133,
          134,
          135,
          136,
          137,
          138,
          139,
          140,
          141,
          142,
          143,
          144,
          145,
          146,
          147,
          148,
          149,
          150,
          151,
          152,
          153,
          154,
          155,
          156,
          157,
          158,
          159,
          160,
          161,
          162,
          163,
          164,
          165,
          166,
          167,
          168,
          169,
          170,
          171,
          172,
          173,
          174,
          175,
          176,
          177,
          178,
          179,
          180,
          181,
          182,
          183,
          184,
          185,
          186,
          187,
          188,
          189,
          190,
          191,
          192,
          193,
          194,
          195,
          196,
          197,
          198,
          199,
          200,
          201,
          202,
          203,
          204,
          205,
          206,
          207,
          208,
          209,
          210,
          211,
          212,
          213,
          214,
          215,
          216,
          217,
          218,
          219,
          220,
          221,
          222,
          223,
          224,
          225,
          226,
          227,
          228,
          229,
          230,
          231,
          232,
          233,
          234,
          235,
          236,
          237,
          238,
          239,
          240,
          241,
          242,
          243,
          244,
          245,
          246,
          247,
          248,
          249,
          250,
          251,
          252,
          253
         ],
         "y": [
          0.000001,
          0,
          0,
          0,
          0.000001,
          0.000002,
          0,
          0.000002,
          0.000003,
          0.000006,
          0.00001,
          0.000015,
          0.000026,
          0.000033,
          0.000033,
          0.000064,
          0.000076,
          0.000098,
          0.000139,
          0.000198,
          0.000202,
          0.000288,
          0.000359,
          0.000428,
          0.000544,
          0.000643,
          0.000778,
          0.000977,
          0.001173,
          0.001321,
          0.001488,
          0.001862,
          0.002135,
          0.002359,
          0.002833,
          0.003073,
          0.003515,
          0.004025,
          0.004597,
          0.005061,
          0.005684,
          0.006249,
          0.006758,
          0.007408,
          0.00798,
          0.00867,
          0.009475,
          0.010081,
          0.010629,
          0.01138,
          0.012165,
          0.01278,
          0.013401,
          0.014272,
          0.01485,
          0.015557,
          0.016171,
          0.016687,
          0.017364,
          0.017748,
          0.018098,
          0.018461,
          0.018823,
          0.019213,
          0.019672,
          0.019747,
          0.019713,
          0.019824,
          0.019765,
          0.019784,
          0.019758,
          0.019557,
          0.019685,
          0.019412,
          0.019205,
          0.01909,
          0.018634,
          0.018298,
          0.017868,
          0.017544,
          0.017017,
          0.016727,
          0.016183,
          0.015687,
          0.015275,
          0.014543,
          0.01413,
          0.013542,
          0.013104,
          0.012527,
          0.01203,
          0.011597,
          0.011081,
          0.010368,
          0.009933,
          0.00936,
          0.00901,
          0.008149,
          0.008111,
          0.007635,
          0.007093,
          0.006686,
          0.006314,
          0.005846,
          0.005487,
          0.005235,
          0.004869,
          0.00454,
          0.004193,
          0.003802,
          0.003543,
          0.003319,
          0.003081,
          0.002955,
          0.002575,
          0.002492,
          0.002294,
          0.002154,
          0.001913,
          0.001781,
          0.001643,
          0.001425,
          0.001369,
          0.001242,
          0.001141,
          0.001118,
          0.000913,
          0.000887,
          0.000755,
          0.000747,
          0.000653,
          0.00056,
          0.000556,
          0.000477,
          0.000424,
          0.000429,
          0.000354,
          0.000332,
          0.000325,
          0.000263,
          0.000257,
          0.000204,
          0.000212,
          0.000179,
          0.000176,
          0.000142,
          0.000144,
          0.000126,
          0.0001,
          0.00009,
          0.000083,
          0.000076,
          0.000071,
          0.000061,
          0.000059,
          0.000056,
          0.000037,
          0.00003,
          0.000034,
          0.000027,
          0.000026,
          0.000015,
          0.000029,
          0.000014,
          0.000014,
          0.000013,
          0.000013,
          0.000014,
          0.000016,
          0.000009,
          0.000005,
          0.000003,
          0.000005,
          0.000004,
          0.000001,
          0.000004,
          0.000001,
          0.000002,
          0.000001,
          0.000002,
          0.000002,
          0.000002,
          0.000001,
          0.000001,
          0.000001,
          0.000001,
          0.000005,
          0,
          0.000002,
          0,
          0,
          0.000002,
          0,
          0.000001,
          0,
          0,
          0,
          0.000001,
          0.000001,
          0,
          0,
          0.000001,
          0,
          0,
          0,
          0,
          0,
          0.000001,
          0,
          0,
          0,
          0,
          0,
          0,
          0,
          0,
          0,
          0,
          0,
          0,
          0,
          0.000001
         ]
        }
       ],
       "layout": {
        "barmode": "group",
        "template": {
         "data": {
          "bar": [
           {
            "error_x": {
             "color": "#2a3f5f"
            },
            "error_y": {
             "color": "#2a3f5f"
            },
            "marker": {
             "line": {
              "color": "#E5ECF6",
              "width": 0.5
             },
             "pattern": {
              "fillmode": "overlay",
              "size": 10,
              "solidity": 0.2
             }
            },
            "type": "bar"
           }
          ],
          "barpolar": [
           {
            "marker": {
             "line": {
              "color": "#E5ECF6",
              "width": 0.5
             },
             "pattern": {
              "fillmode": "overlay",
              "size": 10,
              "solidity": 0.2
             }
            },
            "type": "barpolar"
           }
          ],
          "carpet": [
           {
            "aaxis": {
             "endlinecolor": "#2a3f5f",
             "gridcolor": "white",
             "linecolor": "white",
             "minorgridcolor": "white",
             "startlinecolor": "#2a3f5f"
            },
            "baxis": {
             "endlinecolor": "#2a3f5f",
             "gridcolor": "white",
             "linecolor": "white",
             "minorgridcolor": "white",
             "startlinecolor": "#2a3f5f"
            },
            "type": "carpet"
           }
          ],
          "choropleth": [
           {
            "colorbar": {
             "outlinewidth": 0,
             "ticks": ""
            },
            "type": "choropleth"
           }
          ],
          "contour": [
           {
            "colorbar": {
             "outlinewidth": 0,
             "ticks": ""
            },
            "colorscale": [
             [
              0,
              "#0d0887"
             ],
             [
              0.1111111111111111,
              "#46039f"
             ],
             [
              0.2222222222222222,
              "#7201a8"
             ],
             [
              0.3333333333333333,
              "#9c179e"
             ],
             [
              0.4444444444444444,
              "#bd3786"
             ],
             [
              0.5555555555555556,
              "#d8576b"
             ],
             [
              0.6666666666666666,
              "#ed7953"
             ],
             [
              0.7777777777777778,
              "#fb9f3a"
             ],
             [
              0.8888888888888888,
              "#fdca26"
             ],
             [
              1,
              "#f0f921"
             ]
            ],
            "type": "contour"
           }
          ],
          "contourcarpet": [
           {
            "colorbar": {
             "outlinewidth": 0,
             "ticks": ""
            },
            "type": "contourcarpet"
           }
          ],
          "heatmap": [
           {
            "colorbar": {
             "outlinewidth": 0,
             "ticks": ""
            },
            "colorscale": [
             [
              0,
              "#0d0887"
             ],
             [
              0.1111111111111111,
              "#46039f"
             ],
             [
              0.2222222222222222,
              "#7201a8"
             ],
             [
              0.3333333333333333,
              "#9c179e"
             ],
             [
              0.4444444444444444,
              "#bd3786"
             ],
             [
              0.5555555555555556,
              "#d8576b"
             ],
             [
              0.6666666666666666,
              "#ed7953"
             ],
             [
              0.7777777777777778,
              "#fb9f3a"
             ],
             [
              0.8888888888888888,
              "#fdca26"
             ],
             [
              1,
              "#f0f921"
             ]
            ],
            "type": "heatmap"
           }
          ],
          "heatmapgl": [
           {
            "colorbar": {
             "outlinewidth": 0,
             "ticks": ""
            },
            "colorscale": [
             [
              0,
              "#0d0887"
             ],
             [
              0.1111111111111111,
              "#46039f"
             ],
             [
              0.2222222222222222,
              "#7201a8"
             ],
             [
              0.3333333333333333,
              "#9c179e"
             ],
             [
              0.4444444444444444,
              "#bd3786"
             ],
             [
              0.5555555555555556,
              "#d8576b"
             ],
             [
              0.6666666666666666,
              "#ed7953"
             ],
             [
              0.7777777777777778,
              "#fb9f3a"
             ],
             [
              0.8888888888888888,
              "#fdca26"
             ],
             [
              1,
              "#f0f921"
             ]
            ],
            "type": "heatmapgl"
           }
          ],
          "histogram": [
           {
            "marker": {
             "pattern": {
              "fillmode": "overlay",
              "size": 10,
              "solidity": 0.2
             }
            },
            "type": "histogram"
           }
          ],
          "histogram2d": [
           {
            "colorbar": {
             "outlinewidth": 0,
             "ticks": ""
            },
            "colorscale": [
             [
              0,
              "#0d0887"
             ],
             [
              0.1111111111111111,
              "#46039f"
             ],
             [
              0.2222222222222222,
              "#7201a8"
             ],
             [
              0.3333333333333333,
              "#9c179e"
             ],
             [
              0.4444444444444444,
              "#bd3786"
             ],
             [
              0.5555555555555556,
              "#d8576b"
             ],
             [
              0.6666666666666666,
              "#ed7953"
             ],
             [
              0.7777777777777778,
              "#fb9f3a"
             ],
             [
              0.8888888888888888,
              "#fdca26"
             ],
             [
              1,
              "#f0f921"
             ]
            ],
            "type": "histogram2d"
           }
          ],
          "histogram2dcontour": [
           {
            "colorbar": {
             "outlinewidth": 0,
             "ticks": ""
            },
            "colorscale": [
             [
              0,
              "#0d0887"
             ],
             [
              0.1111111111111111,
              "#46039f"
             ],
             [
              0.2222222222222222,
              "#7201a8"
             ],
             [
              0.3333333333333333,
              "#9c179e"
             ],
             [
              0.4444444444444444,
              "#bd3786"
             ],
             [
              0.5555555555555556,
              "#d8576b"
             ],
             [
              0.6666666666666666,
              "#ed7953"
             ],
             [
              0.7777777777777778,
              "#fb9f3a"
             ],
             [
              0.8888888888888888,
              "#fdca26"
             ],
             [
              1,
              "#f0f921"
             ]
            ],
            "type": "histogram2dcontour"
           }
          ],
          "mesh3d": [
           {
            "colorbar": {
             "outlinewidth": 0,
             "ticks": ""
            },
            "type": "mesh3d"
           }
          ],
          "parcoords": [
           {
            "line": {
             "colorbar": {
              "outlinewidth": 0,
              "ticks": ""
             }
            },
            "type": "parcoords"
           }
          ],
          "pie": [
           {
            "automargin": true,
            "type": "pie"
           }
          ],
          "scatter": [
           {
            "fillpattern": {
             "fillmode": "overlay",
             "size": 10,
             "solidity": 0.2
            },
            "type": "scatter"
           }
          ],
          "scatter3d": [
           {
            "line": {
             "colorbar": {
              "outlinewidth": 0,
              "ticks": ""
             }
            },
            "marker": {
             "colorbar": {
              "outlinewidth": 0,
              "ticks": ""
             }
            },
            "type": "scatter3d"
           }
          ],
          "scattercarpet": [
           {
            "marker": {
             "colorbar": {
              "outlinewidth": 0,
              "ticks": ""
             }
            },
            "type": "scattercarpet"
           }
          ],
          "scattergeo": [
           {
            "marker": {
             "colorbar": {
              "outlinewidth": 0,
              "ticks": ""
             }
            },
            "type": "scattergeo"
           }
          ],
          "scattergl": [
           {
            "marker": {
             "colorbar": {
              "outlinewidth": 0,
              "ticks": ""
             }
            },
            "type": "scattergl"
           }
          ],
          "scattermapbox": [
           {
            "marker": {
             "colorbar": {
              "outlinewidth": 0,
              "ticks": ""
             }
            },
            "type": "scattermapbox"
           }
          ],
          "scatterpolar": [
           {
            "marker": {
             "colorbar": {
              "outlinewidth": 0,
              "ticks": ""
             }
            },
            "type": "scatterpolar"
           }
          ],
          "scatterpolargl": [
           {
            "marker": {
             "colorbar": {
              "outlinewidth": 0,
              "ticks": ""
             }
            },
            "type": "scatterpolargl"
           }
          ],
          "scatterternary": [
           {
            "marker": {
             "colorbar": {
              "outlinewidth": 0,
              "ticks": ""
             }
            },
            "type": "scatterternary"
           }
          ],
          "surface": [
           {
            "colorbar": {
             "outlinewidth": 0,
             "ticks": ""
            },
            "colorscale": [
             [
              0,
              "#0d0887"
             ],
             [
              0.1111111111111111,
              "#46039f"
             ],
             [
              0.2222222222222222,
              "#7201a8"
             ],
             [
              0.3333333333333333,
              "#9c179e"
             ],
             [
              0.4444444444444444,
              "#bd3786"
             ],
             [
              0.5555555555555556,
              "#d8576b"
             ],
             [
              0.6666666666666666,
              "#ed7953"
             ],
             [
              0.7777777777777778,
              "#fb9f3a"
             ],
             [
              0.8888888888888888,
              "#fdca26"
             ],
             [
              1,
              "#f0f921"
             ]
            ],
            "type": "surface"
           }
          ],
          "table": [
           {
            "cells": {
             "fill": {
              "color": "#EBF0F8"
             },
             "line": {
              "color": "white"
             }
            },
            "header": {
             "fill": {
              "color": "#C8D4E3"
             },
             "line": {
              "color": "white"
             }
            },
            "type": "table"
           }
          ]
         },
         "layout": {
          "annotationdefaults": {
           "arrowcolor": "#2a3f5f",
           "arrowhead": 0,
           "arrowwidth": 1
          },
          "autotypenumbers": "strict",
          "coloraxis": {
           "colorbar": {
            "outlinewidth": 0,
            "ticks": ""
           }
          },
          "colorscale": {
           "diverging": [
            [
             0,
             "#8e0152"
            ],
            [
             0.1,
             "#c51b7d"
            ],
            [
             0.2,
             "#de77ae"
            ],
            [
             0.3,
             "#f1b6da"
            ],
            [
             0.4,
             "#fde0ef"
            ],
            [
             0.5,
             "#f7f7f7"
            ],
            [
             0.6,
             "#e6f5d0"
            ],
            [
             0.7,
             "#b8e186"
            ],
            [
             0.8,
             "#7fbc41"
            ],
            [
             0.9,
             "#4d9221"
            ],
            [
             1,
             "#276419"
            ]
           ],
           "sequential": [
            [
             0,
             "#0d0887"
            ],
            [
             0.1111111111111111,
             "#46039f"
            ],
            [
             0.2222222222222222,
             "#7201a8"
            ],
            [
             0.3333333333333333,
             "#9c179e"
            ],
            [
             0.4444444444444444,
             "#bd3786"
            ],
            [
             0.5555555555555556,
             "#d8576b"
            ],
            [
             0.6666666666666666,
             "#ed7953"
            ],
            [
             0.7777777777777778,
             "#fb9f3a"
            ],
            [
             0.8888888888888888,
             "#fdca26"
            ],
            [
             1,
             "#f0f921"
            ]
           ],
           "sequentialminus": [
            [
             0,
             "#0d0887"
            ],
            [
             0.1111111111111111,
             "#46039f"
            ],
            [
             0.2222222222222222,
             "#7201a8"
            ],
            [
             0.3333333333333333,
             "#9c179e"
            ],
            [
             0.4444444444444444,
             "#bd3786"
            ],
            [
             0.5555555555555556,
             "#d8576b"
            ],
            [
             0.6666666666666666,
             "#ed7953"
            ],
            [
             0.7777777777777778,
             "#fb9f3a"
            ],
            [
             0.8888888888888888,
             "#fdca26"
            ],
            [
             1,
             "#f0f921"
            ]
           ]
          },
          "colorway": [
           "#636efa",
           "#EF553B",
           "#00cc96",
           "#ab63fa",
           "#FFA15A",
           "#19d3f3",
           "#FF6692",
           "#B6E880",
           "#FF97FF",
           "#FECB52"
          ],
          "font": {
           "color": "#2a3f5f"
          },
          "geo": {
           "bgcolor": "white",
           "lakecolor": "white",
           "landcolor": "#E5ECF6",
           "showlakes": true,
           "showland": true,
           "subunitcolor": "white"
          },
          "hoverlabel": {
           "align": "left"
          },
          "hovermode": "closest",
          "mapbox": {
           "style": "light"
          },
          "paper_bgcolor": "white",
          "plot_bgcolor": "#E5ECF6",
          "polar": {
           "angularaxis": {
            "gridcolor": "white",
            "linecolor": "white",
            "ticks": ""
           },
           "bgcolor": "#E5ECF6",
           "radialaxis": {
            "gridcolor": "white",
            "linecolor": "white",
            "ticks": ""
           }
          },
          "scene": {
           "xaxis": {
            "backgroundcolor": "#E5ECF6",
            "gridcolor": "white",
            "gridwidth": 2,
            "linecolor": "white",
            "showbackground": true,
            "ticks": "",
            "zerolinecolor": "white"
           },
           "yaxis": {
            "backgroundcolor": "#E5ECF6",
            "gridcolor": "white",
            "gridwidth": 2,
            "linecolor": "white",
            "showbackground": true,
            "ticks": "",
            "zerolinecolor": "white"
           },
           "zaxis": {
            "backgroundcolor": "#E5ECF6",
            "gridcolor": "white",
            "gridwidth": 2,
            "linecolor": "white",
            "showbackground": true,
            "ticks": "",
            "zerolinecolor": "white"
           }
          },
          "shapedefaults": {
           "line": {
            "color": "#2a3f5f"
           }
          },
          "ternary": {
           "aaxis": {
            "gridcolor": "white",
            "linecolor": "white",
            "ticks": ""
           },
           "baxis": {
            "gridcolor": "white",
            "linecolor": "white",
            "ticks": ""
           },
           "bgcolor": "#E5ECF6",
           "caxis": {
            "gridcolor": "white",
            "linecolor": "white",
            "ticks": ""
           }
          },
          "title": {
           "x": 0.05
          },
          "xaxis": {
           "automargin": true,
           "gridcolor": "white",
           "linecolor": "white",
           "ticks": "",
           "title": {
            "standoff": 15
           },
           "zerolinecolor": "white",
           "zerolinewidth": 2
          },
          "yaxis": {
           "automargin": true,
           "gridcolor": "white",
           "linecolor": "white",
           "ticks": "",
           "title": {
            "standoff": 15
           },
           "zerolinecolor": "white",
           "zerolinewidth": 2
          }
         }
        },
        "title": {
         "text": "Modelo x Simulação: n=50; s=25; p=0.005",
         "x": 0.5,
         "xanchor": "center"
        },
        "xaxis": {
         "title": {
          "text": "Tempo (k)"
         }
        },
        "yaxis": {
         "title": {
          "text": "Densidade de Probabilidade"
         }
        }
       }
      }
     },
     "metadata": {},
     "output_type": "display_data"
    },
    {
     "data": {
      "application/vnd.plotly.v1+json": {
       "config": {
        "plotlyServerURL": "https://plot.ly"
       },
       "data": [
        {
         "name": "Modelo",
         "type": "bar",
         "x": [
          12,
          13,
          14,
          15,
          16,
          17,
          18,
          19,
          20,
          21,
          22,
          23,
          24,
          25,
          26,
          27,
          28,
          29,
          30,
          31,
          32,
          33,
          34,
          35,
          36,
          37,
          38,
          39,
          40,
          41,
          42,
          43,
          44,
          45,
          46,
          47,
          48,
          49,
          50,
          51,
          52,
          53,
          54,
          55,
          56,
          57,
          58,
          59,
          60,
          61,
          62,
          63,
          64,
          65,
          66,
          67,
          68,
          69,
          70,
          71,
          72,
          73,
          74,
          75,
          76,
          77,
          78,
          79,
          80,
          81,
          82,
          83
         ],
         "y": [
          6.108650969212551e-7,
          0.0000024411954986590255,
          0.000008319825742021222,
          0.000024728430714738033,
          0.00006526263888236433,
          0.0001552014556317244,
          0.00033663586143180415,
          0.0006727641905073847,
          0.0012494558801609925,
          0.002172204094209241,
          0.003557296358560195,
          0.005517339306892996,
          0.008142836568073302,
          0.011482861919486848,
          0.015528558676478673,
          0.020202992904773575,
          0.025359825470803538,
          0.030791624689759132,
          0.036246837724551784,
          0.04145290233268987,
          0.04614202851311676,
          0.050075953121297395,
          0.05306642770589682,
          0.05498915813911208,
          0.05579011937618354,
          0.05548436358825719,
          0.05414842146598159,
          0.05190804335253494,
          0.04892330413091965,
          0.04537304022127501,
          0.041440281944145986,
          0.03729989260275836,
          0.03310912610013763,
          0.0290013477766217,
          0.025082781848333357,
          0.021431879533467563,
          0.018100747766614862,
          0.015118025915533573,
          0.01249262429914853,
          0.010217817517638117,
          0.008275293020101212,
          0.0066388706035731835,
          0.005277716854303558,
          0.004158970698673659,
          0.0032497678776782436,
          0.002518702678431104,
          0.0019367965473069554,
          0.0014780585839898163,
          0.0011197262185595636,
          0.0008422693582197642,
          0.0006292312355260567,
          0.00046696671650609504,
          0.00034432585784088576,
          0.0002523183181425049,
          0.00018378357432604592,
          0.00013308310398495464,
          0.0000958238124522134,
          0.00006861686803362475,
          0.00004887251878299115,
          0.000034629117440983076,
          0.000024413197608599268,
          0.000017126770109393463,
          0.00001195782890006103,
          0.000008310198516342526,
          0.000005749188430864267,
          0.000003959948369099152,
          0.0000027158768704771373,
          0.0000018548808745530777,
          0.0000012616920524778726,
          8.548036842206689e-7,
          5.768962445978251e-7,
          3.878719918059433e-7
         ]
        },
        {
         "name": "Simulação",
         "type": "bar",
         "x": [
          12,
          13,
          14,
          15,
          16,
          17,
          18,
          19,
          20,
          21,
          22,
          23,
          24,
          25,
          26,
          27,
          28,
          29,
          30,
          31,
          32,
          33,
          34,
          35,
          36,
          37,
          38,
          39,
          40,
          41,
          42,
          43,
          44,
          45,
          46,
          47,
          48,
          49,
          50,
          51,
          52,
          53,
          54,
          55,
          56,
          57,
          58,
          59,
          60,
          61,
          62,
          63,
          64,
          65,
          66,
          67,
          68,
          69,
          70,
          71,
          72,
          73,
          74,
          75,
          76,
          77,
          78,
          79,
          80,
          81,
          82,
          83
         ],
         "y": [
          0.000001,
          0.000002,
          0.00001,
          0.000022,
          0.000073,
          0.000152,
          0.000319,
          0.000644,
          0.001263,
          0.00221,
          0.003583,
          0.00549,
          0.008226,
          0.01137,
          0.015385,
          0.020171,
          0.025291,
          0.030944,
          0.03621,
          0.041336,
          0.04639,
          0.050102,
          0.053124,
          0.055306,
          0.055604,
          0.055467,
          0.053853,
          0.051719,
          0.049006,
          0.04556,
          0.041622,
          0.037203,
          0.033352,
          0.02897,
          0.024909,
          0.021289,
          0.018263,
          0.015058,
          0.012345,
          0.010203,
          0.008265,
          0.006621,
          0.00533,
          0.004221,
          0.003298,
          0.002519,
          0.001791,
          0.001467,
          0.001128,
          0.000864,
          0.000666,
          0.000477,
          0.000347,
          0.000279,
          0.000182,
          0.000134,
          0.000118,
          0.000073,
          0.000038,
          0.000042,
          0.000023,
          0.000021,
          0.000013,
          0.000008,
          0.00001,
          0.000004,
          0.000005,
          0.000006,
          0.000001,
          0.000001,
          0,
          0.000001
         ]
        }
       ],
       "layout": {
        "barmode": "group",
        "template": {
         "data": {
          "bar": [
           {
            "error_x": {
             "color": "#2a3f5f"
            },
            "error_y": {
             "color": "#2a3f5f"
            },
            "marker": {
             "line": {
              "color": "#E5ECF6",
              "width": 0.5
             },
             "pattern": {
              "fillmode": "overlay",
              "size": 10,
              "solidity": 0.2
             }
            },
            "type": "bar"
           }
          ],
          "barpolar": [
           {
            "marker": {
             "line": {
              "color": "#E5ECF6",
              "width": 0.5
             },
             "pattern": {
              "fillmode": "overlay",
              "size": 10,
              "solidity": 0.2
             }
            },
            "type": "barpolar"
           }
          ],
          "carpet": [
           {
            "aaxis": {
             "endlinecolor": "#2a3f5f",
             "gridcolor": "white",
             "linecolor": "white",
             "minorgridcolor": "white",
             "startlinecolor": "#2a3f5f"
            },
            "baxis": {
             "endlinecolor": "#2a3f5f",
             "gridcolor": "white",
             "linecolor": "white",
             "minorgridcolor": "white",
             "startlinecolor": "#2a3f5f"
            },
            "type": "carpet"
           }
          ],
          "choropleth": [
           {
            "colorbar": {
             "outlinewidth": 0,
             "ticks": ""
            },
            "type": "choropleth"
           }
          ],
          "contour": [
           {
            "colorbar": {
             "outlinewidth": 0,
             "ticks": ""
            },
            "colorscale": [
             [
              0,
              "#0d0887"
             ],
             [
              0.1111111111111111,
              "#46039f"
             ],
             [
              0.2222222222222222,
              "#7201a8"
             ],
             [
              0.3333333333333333,
              "#9c179e"
             ],
             [
              0.4444444444444444,
              "#bd3786"
             ],
             [
              0.5555555555555556,
              "#d8576b"
             ],
             [
              0.6666666666666666,
              "#ed7953"
             ],
             [
              0.7777777777777778,
              "#fb9f3a"
             ],
             [
              0.8888888888888888,
              "#fdca26"
             ],
             [
              1,
              "#f0f921"
             ]
            ],
            "type": "contour"
           }
          ],
          "contourcarpet": [
           {
            "colorbar": {
             "outlinewidth": 0,
             "ticks": ""
            },
            "type": "contourcarpet"
           }
          ],
          "heatmap": [
           {
            "colorbar": {
             "outlinewidth": 0,
             "ticks": ""
            },
            "colorscale": [
             [
              0,
              "#0d0887"
             ],
             [
              0.1111111111111111,
              "#46039f"
             ],
             [
              0.2222222222222222,
              "#7201a8"
             ],
             [
              0.3333333333333333,
              "#9c179e"
             ],
             [
              0.4444444444444444,
              "#bd3786"
             ],
             [
              0.5555555555555556,
              "#d8576b"
             ],
             [
              0.6666666666666666,
              "#ed7953"
             ],
             [
              0.7777777777777778,
              "#fb9f3a"
             ],
             [
              0.8888888888888888,
              "#fdca26"
             ],
             [
              1,
              "#f0f921"
             ]
            ],
            "type": "heatmap"
           }
          ],
          "heatmapgl": [
           {
            "colorbar": {
             "outlinewidth": 0,
             "ticks": ""
            },
            "colorscale": [
             [
              0,
              "#0d0887"
             ],
             [
              0.1111111111111111,
              "#46039f"
             ],
             [
              0.2222222222222222,
              "#7201a8"
             ],
             [
              0.3333333333333333,
              "#9c179e"
             ],
             [
              0.4444444444444444,
              "#bd3786"
             ],
             [
              0.5555555555555556,
              "#d8576b"
             ],
             [
              0.6666666666666666,
              "#ed7953"
             ],
             [
              0.7777777777777778,
              "#fb9f3a"
             ],
             [
              0.8888888888888888,
              "#fdca26"
             ],
             [
              1,
              "#f0f921"
             ]
            ],
            "type": "heatmapgl"
           }
          ],
          "histogram": [
           {
            "marker": {
             "pattern": {
              "fillmode": "overlay",
              "size": 10,
              "solidity": 0.2
             }
            },
            "type": "histogram"
           }
          ],
          "histogram2d": [
           {
            "colorbar": {
             "outlinewidth": 0,
             "ticks": ""
            },
            "colorscale": [
             [
              0,
              "#0d0887"
             ],
             [
              0.1111111111111111,
              "#46039f"
             ],
             [
              0.2222222222222222,
              "#7201a8"
             ],
             [
              0.3333333333333333,
              "#9c179e"
             ],
             [
              0.4444444444444444,
              "#bd3786"
             ],
             [
              0.5555555555555556,
              "#d8576b"
             ],
             [
              0.6666666666666666,
              "#ed7953"
             ],
             [
              0.7777777777777778,
              "#fb9f3a"
             ],
             [
              0.8888888888888888,
              "#fdca26"
             ],
             [
              1,
              "#f0f921"
             ]
            ],
            "type": "histogram2d"
           }
          ],
          "histogram2dcontour": [
           {
            "colorbar": {
             "outlinewidth": 0,
             "ticks": ""
            },
            "colorscale": [
             [
              0,
              "#0d0887"
             ],
             [
              0.1111111111111111,
              "#46039f"
             ],
             [
              0.2222222222222222,
              "#7201a8"
             ],
             [
              0.3333333333333333,
              "#9c179e"
             ],
             [
              0.4444444444444444,
              "#bd3786"
             ],
             [
              0.5555555555555556,
              "#d8576b"
             ],
             [
              0.6666666666666666,
              "#ed7953"
             ],
             [
              0.7777777777777778,
              "#fb9f3a"
             ],
             [
              0.8888888888888888,
              "#fdca26"
             ],
             [
              1,
              "#f0f921"
             ]
            ],
            "type": "histogram2dcontour"
           }
          ],
          "mesh3d": [
           {
            "colorbar": {
             "outlinewidth": 0,
             "ticks": ""
            },
            "type": "mesh3d"
           }
          ],
          "parcoords": [
           {
            "line": {
             "colorbar": {
              "outlinewidth": 0,
              "ticks": ""
             }
            },
            "type": "parcoords"
           }
          ],
          "pie": [
           {
            "automargin": true,
            "type": "pie"
           }
          ],
          "scatter": [
           {
            "fillpattern": {
             "fillmode": "overlay",
             "size": 10,
             "solidity": 0.2
            },
            "type": "scatter"
           }
          ],
          "scatter3d": [
           {
            "line": {
             "colorbar": {
              "outlinewidth": 0,
              "ticks": ""
             }
            },
            "marker": {
             "colorbar": {
              "outlinewidth": 0,
              "ticks": ""
             }
            },
            "type": "scatter3d"
           }
          ],
          "scattercarpet": [
           {
            "marker": {
             "colorbar": {
              "outlinewidth": 0,
              "ticks": ""
             }
            },
            "type": "scattercarpet"
           }
          ],
          "scattergeo": [
           {
            "marker": {
             "colorbar": {
              "outlinewidth": 0,
              "ticks": ""
             }
            },
            "type": "scattergeo"
           }
          ],
          "scattergl": [
           {
            "marker": {
             "colorbar": {
              "outlinewidth": 0,
              "ticks": ""
             }
            },
            "type": "scattergl"
           }
          ],
          "scattermapbox": [
           {
            "marker": {
             "colorbar": {
              "outlinewidth": 0,
              "ticks": ""
             }
            },
            "type": "scattermapbox"
           }
          ],
          "scatterpolar": [
           {
            "marker": {
             "colorbar": {
              "outlinewidth": 0,
              "ticks": ""
             }
            },
            "type": "scatterpolar"
           }
          ],
          "scatterpolargl": [
           {
            "marker": {
             "colorbar": {
              "outlinewidth": 0,
              "ticks": ""
             }
            },
            "type": "scatterpolargl"
           }
          ],
          "scatterternary": [
           {
            "marker": {
             "colorbar": {
              "outlinewidth": 0,
              "ticks": ""
             }
            },
            "type": "scatterternary"
           }
          ],
          "surface": [
           {
            "colorbar": {
             "outlinewidth": 0,
             "ticks": ""
            },
            "colorscale": [
             [
              0,
              "#0d0887"
             ],
             [
              0.1111111111111111,
              "#46039f"
             ],
             [
              0.2222222222222222,
              "#7201a8"
             ],
             [
              0.3333333333333333,
              "#9c179e"
             ],
             [
              0.4444444444444444,
              "#bd3786"
             ],
             [
              0.5555555555555556,
              "#d8576b"
             ],
             [
              0.6666666666666666,
              "#ed7953"
             ],
             [
              0.7777777777777778,
              "#fb9f3a"
             ],
             [
              0.8888888888888888,
              "#fdca26"
             ],
             [
              1,
              "#f0f921"
             ]
            ],
            "type": "surface"
           }
          ],
          "table": [
           {
            "cells": {
             "fill": {
              "color": "#EBF0F8"
             },
             "line": {
              "color": "white"
             }
            },
            "header": {
             "fill": {
              "color": "#C8D4E3"
             },
             "line": {
              "color": "white"
             }
            },
            "type": "table"
           }
          ]
         },
         "layout": {
          "annotationdefaults": {
           "arrowcolor": "#2a3f5f",
           "arrowhead": 0,
           "arrowwidth": 1
          },
          "autotypenumbers": "strict",
          "coloraxis": {
           "colorbar": {
            "outlinewidth": 0,
            "ticks": ""
           }
          },
          "colorscale": {
           "diverging": [
            [
             0,
             "#8e0152"
            ],
            [
             0.1,
             "#c51b7d"
            ],
            [
             0.2,
             "#de77ae"
            ],
            [
             0.3,
             "#f1b6da"
            ],
            [
             0.4,
             "#fde0ef"
            ],
            [
             0.5,
             "#f7f7f7"
            ],
            [
             0.6,
             "#e6f5d0"
            ],
            [
             0.7,
             "#b8e186"
            ],
            [
             0.8,
             "#7fbc41"
            ],
            [
             0.9,
             "#4d9221"
            ],
            [
             1,
             "#276419"
            ]
           ],
           "sequential": [
            [
             0,
             "#0d0887"
            ],
            [
             0.1111111111111111,
             "#46039f"
            ],
            [
             0.2222222222222222,
             "#7201a8"
            ],
            [
             0.3333333333333333,
             "#9c179e"
            ],
            [
             0.4444444444444444,
             "#bd3786"
            ],
            [
             0.5555555555555556,
             "#d8576b"
            ],
            [
             0.6666666666666666,
             "#ed7953"
            ],
            [
             0.7777777777777778,
             "#fb9f3a"
            ],
            [
             0.8888888888888888,
             "#fdca26"
            ],
            [
             1,
             "#f0f921"
            ]
           ],
           "sequentialminus": [
            [
             0,
             "#0d0887"
            ],
            [
             0.1111111111111111,
             "#46039f"
            ],
            [
             0.2222222222222222,
             "#7201a8"
            ],
            [
             0.3333333333333333,
             "#9c179e"
            ],
            [
             0.4444444444444444,
             "#bd3786"
            ],
            [
             0.5555555555555556,
             "#d8576b"
            ],
            [
             0.6666666666666666,
             "#ed7953"
            ],
            [
             0.7777777777777778,
             "#fb9f3a"
            ],
            [
             0.8888888888888888,
             "#fdca26"
            ],
            [
             1,
             "#f0f921"
            ]
           ]
          },
          "colorway": [
           "#636efa",
           "#EF553B",
           "#00cc96",
           "#ab63fa",
           "#FFA15A",
           "#19d3f3",
           "#FF6692",
           "#B6E880",
           "#FF97FF",
           "#FECB52"
          ],
          "font": {
           "color": "#2a3f5f"
          },
          "geo": {
           "bgcolor": "white",
           "lakecolor": "white",
           "landcolor": "#E5ECF6",
           "showlakes": true,
           "showland": true,
           "subunitcolor": "white"
          },
          "hoverlabel": {
           "align": "left"
          },
          "hovermode": "closest",
          "mapbox": {
           "style": "light"
          },
          "paper_bgcolor": "white",
          "plot_bgcolor": "#E5ECF6",
          "polar": {
           "angularaxis": {
            "gridcolor": "white",
            "linecolor": "white",
            "ticks": ""
           },
           "bgcolor": "#E5ECF6",
           "radialaxis": {
            "gridcolor": "white",
            "linecolor": "white",
            "ticks": ""
           }
          },
          "scene": {
           "xaxis": {
            "backgroundcolor": "#E5ECF6",
            "gridcolor": "white",
            "gridwidth": 2,
            "linecolor": "white",
            "showbackground": true,
            "ticks": "",
            "zerolinecolor": "white"
           },
           "yaxis": {
            "backgroundcolor": "#E5ECF6",
            "gridcolor": "white",
            "gridwidth": 2,
            "linecolor": "white",
            "showbackground": true,
            "ticks": "",
            "zerolinecolor": "white"
           },
           "zaxis": {
            "backgroundcolor": "#E5ECF6",
            "gridcolor": "white",
            "gridwidth": 2,
            "linecolor": "white",
            "showbackground": true,
            "ticks": "",
            "zerolinecolor": "white"
           }
          },
          "shapedefaults": {
           "line": {
            "color": "#2a3f5f"
           }
          },
          "ternary": {
           "aaxis": {
            "gridcolor": "white",
            "linecolor": "white",
            "ticks": ""
           },
           "baxis": {
            "gridcolor": "white",
            "linecolor": "white",
            "ticks": ""
           },
           "bgcolor": "#E5ECF6",
           "caxis": {
            "gridcolor": "white",
            "linecolor": "white",
            "ticks": ""
           }
          },
          "title": {
           "x": 0.05
          },
          "xaxis": {
           "automargin": true,
           "gridcolor": "white",
           "linecolor": "white",
           "ticks": "",
           "title": {
            "standoff": 15
           },
           "zerolinecolor": "white",
           "zerolinewidth": 2
          },
          "yaxis": {
           "automargin": true,
           "gridcolor": "white",
           "linecolor": "white",
           "ticks": "",
           "title": {
            "standoff": 15
           },
           "zerolinecolor": "white",
           "zerolinewidth": 2
          }
         }
        },
        "title": {
         "text": "Modelo x Simulação: n=100; s=25; p=0.007",
         "x": 0.5,
         "xanchor": "center"
        },
        "xaxis": {
         "title": {
          "text": "Tempo (k)"
         }
        },
        "yaxis": {
         "title": {
          "text": "Densidade de Probabilidade"
         }
        }
       }
      }
     },
     "metadata": {},
     "output_type": "display_data"
    },
    {
     "data": {
      "application/vnd.plotly.v1+json": {
       "config": {
        "plotlyServerURL": "https://plot.ly"
       },
       "data": [
        {
         "name": "Modelo",
         "type": "bar",
         "x": [
          17,
          18,
          19,
          20,
          21,
          22,
          23,
          24,
          25,
          26,
          27,
          28,
          29,
          30,
          31,
          32,
          33,
          34,
          35,
          36,
          37,
          38,
          39,
          40,
          41,
          42,
          43,
          44,
          45,
          46,
          47,
          48,
          49,
          50,
          51,
          52,
          53,
          54,
          55,
          56,
          57,
          58,
          59,
          60,
          61,
          62,
          63,
          64,
          65,
          66,
          67,
          68,
          69,
          70,
          71,
          72,
          73,
          74,
          75,
          76,
          77,
          78
         ],
         "y": [
          3.843643938766991e-7,
          0.0000015001654079687461,
          0.000005136171578429636,
          0.00001563755470683651,
          0.00004283284222406363,
          0.00010661105049196745,
          0.0002432199685884752,
          0.0005124342473077298,
          0.0010036552925018543,
          0.0018380755834911798,
          0.0031638098814781427,
          0.0051417960624880596,
          0.00792235396659823,
          0.011615106771691695,
          0.016257648331632485,
          0.02178991025469099,
          0.028040956634862516,
          0.034732797809730175,
          0.041502288448281875,
          0.047938232169367795,
          0.05362753622266652,
          0.05820248073238026,
          0.061381240442829256,
          0.06299554309010202,
          0.06300217824342436,
          0.06147821016873791,
          0.05860247648339292,
          0.05462777537968645,
          0.04984886279674199,
          0.04457108144484591,
          0.03908340376758933,
          0.03363825119692634,
          0.028438995678878646,
          0.023634815170205794,
          0.019321708357831688,
          0.015548012698875239,
          0.012322669303772993,
          0.00962464574515934,
          0.00741225587559679,
          0.005631505549836442,
          0.004222969282972585,
          0.0031270177254625526,
          0.002287447626788427,
          0.0016537128937671778,
          0.001182028497873097,
          0.0008356357290629209,
          0.0005844962729294145,
          0.0004046404471270535,
          0.00027734468125939797,
          0.0001882639299157755,
          0.0001266014749751161,
          0.00008436390871724515,
          0.00005572337756105991,
          0.00003649156081495942,
          0.000023698910804388686,
          0.00001526677947289498,
          0.000009757700256839539,
          0.000006189026976489703,
          0.00000389638799135661,
          0.0000024353051262874766,
          0.0000015113984302717244,
          9.315769598106693e-7
         ]
        },
        {
         "name": "Simulação",
         "type": "bar",
         "x": [
          17,
          18,
          19,
          20,
          21,
          22,
          23,
          24,
          25,
          26,
          27,
          28,
          29,
          30,
          31,
          32,
          33,
          34,
          35,
          36,
          37,
          38,
          39,
          40,
          41,
          42,
          43,
          44,
          45,
          46,
          47,
          48,
          49,
          50,
          51,
          52,
          53,
          54,
          55,
          56,
          57,
          58,
          59,
          60,
          61,
          62,
          63,
          64,
          65,
          66,
          67,
          68,
          69,
          70,
          71,
          72,
          73,
          74,
          75,
          76,
          77,
          78
         ],
         "y": [
          0.000001,
          0,
          0.000006,
          0.000012,
          0.00003,
          0.00011,
          0.000243,
          0.000497,
          0.001037,
          0.001935,
          0.003226,
          0.005178,
          0.007868,
          0.011578,
          0.016243,
          0.021677,
          0.028023,
          0.034664,
          0.041504,
          0.047847,
          0.053668,
          0.058121,
          0.061631,
          0.062892,
          0.062857,
          0.06145,
          0.058798,
          0.05459,
          0.049857,
          0.044798,
          0.039124,
          0.033515,
          0.028126,
          0.023596,
          0.019481,
          0.015652,
          0.012249,
          0.00962,
          0.007438,
          0.005601,
          0.004317,
          0.003231,
          0.002327,
          0.001618,
          0.00118,
          0.000791,
          0.000578,
          0.000411,
          0.000279,
          0.000189,
          0.000131,
          0.000073,
          0.000055,
          0.000027,
          0.000009,
          0.000019,
          0.00001,
          0.000004,
          0.000003,
          0.000003,
          0.000001,
          0.000001
         ]
        }
       ],
       "layout": {
        "barmode": "group",
        "template": {
         "data": {
          "bar": [
           {
            "error_x": {
             "color": "#2a3f5f"
            },
            "error_y": {
             "color": "#2a3f5f"
            },
            "marker": {
             "line": {
              "color": "#E5ECF6",
              "width": 0.5
             },
             "pattern": {
              "fillmode": "overlay",
              "size": 10,
              "solidity": 0.2
             }
            },
            "type": "bar"
           }
          ],
          "barpolar": [
           {
            "marker": {
             "line": {
              "color": "#E5ECF6",
              "width": 0.5
             },
             "pattern": {
              "fillmode": "overlay",
              "size": 10,
              "solidity": 0.2
             }
            },
            "type": "barpolar"
           }
          ],
          "carpet": [
           {
            "aaxis": {
             "endlinecolor": "#2a3f5f",
             "gridcolor": "white",
             "linecolor": "white",
             "minorgridcolor": "white",
             "startlinecolor": "#2a3f5f"
            },
            "baxis": {
             "endlinecolor": "#2a3f5f",
             "gridcolor": "white",
             "linecolor": "white",
             "minorgridcolor": "white",
             "startlinecolor": "#2a3f5f"
            },
            "type": "carpet"
           }
          ],
          "choropleth": [
           {
            "colorbar": {
             "outlinewidth": 0,
             "ticks": ""
            },
            "type": "choropleth"
           }
          ],
          "contour": [
           {
            "colorbar": {
             "outlinewidth": 0,
             "ticks": ""
            },
            "colorscale": [
             [
              0,
              "#0d0887"
             ],
             [
              0.1111111111111111,
              "#46039f"
             ],
             [
              0.2222222222222222,
              "#7201a8"
             ],
             [
              0.3333333333333333,
              "#9c179e"
             ],
             [
              0.4444444444444444,
              "#bd3786"
             ],
             [
              0.5555555555555556,
              "#d8576b"
             ],
             [
              0.6666666666666666,
              "#ed7953"
             ],
             [
              0.7777777777777778,
              "#fb9f3a"
             ],
             [
              0.8888888888888888,
              "#fdca26"
             ],
             [
              1,
              "#f0f921"
             ]
            ],
            "type": "contour"
           }
          ],
          "contourcarpet": [
           {
            "colorbar": {
             "outlinewidth": 0,
             "ticks": ""
            },
            "type": "contourcarpet"
           }
          ],
          "heatmap": [
           {
            "colorbar": {
             "outlinewidth": 0,
             "ticks": ""
            },
            "colorscale": [
             [
              0,
              "#0d0887"
             ],
             [
              0.1111111111111111,
              "#46039f"
             ],
             [
              0.2222222222222222,
              "#7201a8"
             ],
             [
              0.3333333333333333,
              "#9c179e"
             ],
             [
              0.4444444444444444,
              "#bd3786"
             ],
             [
              0.5555555555555556,
              "#d8576b"
             ],
             [
              0.6666666666666666,
              "#ed7953"
             ],
             [
              0.7777777777777778,
              "#fb9f3a"
             ],
             [
              0.8888888888888888,
              "#fdca26"
             ],
             [
              1,
              "#f0f921"
             ]
            ],
            "type": "heatmap"
           }
          ],
          "heatmapgl": [
           {
            "colorbar": {
             "outlinewidth": 0,
             "ticks": ""
            },
            "colorscale": [
             [
              0,
              "#0d0887"
             ],
             [
              0.1111111111111111,
              "#46039f"
             ],
             [
              0.2222222222222222,
              "#7201a8"
             ],
             [
              0.3333333333333333,
              "#9c179e"
             ],
             [
              0.4444444444444444,
              "#bd3786"
             ],
             [
              0.5555555555555556,
              "#d8576b"
             ],
             [
              0.6666666666666666,
              "#ed7953"
             ],
             [
              0.7777777777777778,
              "#fb9f3a"
             ],
             [
              0.8888888888888888,
              "#fdca26"
             ],
             [
              1,
              "#f0f921"
             ]
            ],
            "type": "heatmapgl"
           }
          ],
          "histogram": [
           {
            "marker": {
             "pattern": {
              "fillmode": "overlay",
              "size": 10,
              "solidity": 0.2
             }
            },
            "type": "histogram"
           }
          ],
          "histogram2d": [
           {
            "colorbar": {
             "outlinewidth": 0,
             "ticks": ""
            },
            "colorscale": [
             [
              0,
              "#0d0887"
             ],
             [
              0.1111111111111111,
              "#46039f"
             ],
             [
              0.2222222222222222,
              "#7201a8"
             ],
             [
              0.3333333333333333,
              "#9c179e"
             ],
             [
              0.4444444444444444,
              "#bd3786"
             ],
             [
              0.5555555555555556,
              "#d8576b"
             ],
             [
              0.6666666666666666,
              "#ed7953"
             ],
             [
              0.7777777777777778,
              "#fb9f3a"
             ],
             [
              0.8888888888888888,
              "#fdca26"
             ],
             [
              1,
              "#f0f921"
             ]
            ],
            "type": "histogram2d"
           }
          ],
          "histogram2dcontour": [
           {
            "colorbar": {
             "outlinewidth": 0,
             "ticks": ""
            },
            "colorscale": [
             [
              0,
              "#0d0887"
             ],
             [
              0.1111111111111111,
              "#46039f"
             ],
             [
              0.2222222222222222,
              "#7201a8"
             ],
             [
              0.3333333333333333,
              "#9c179e"
             ],
             [
              0.4444444444444444,
              "#bd3786"
             ],
             [
              0.5555555555555556,
              "#d8576b"
             ],
             [
              0.6666666666666666,
              "#ed7953"
             ],
             [
              0.7777777777777778,
              "#fb9f3a"
             ],
             [
              0.8888888888888888,
              "#fdca26"
             ],
             [
              1,
              "#f0f921"
             ]
            ],
            "type": "histogram2dcontour"
           }
          ],
          "mesh3d": [
           {
            "colorbar": {
             "outlinewidth": 0,
             "ticks": ""
            },
            "type": "mesh3d"
           }
          ],
          "parcoords": [
           {
            "line": {
             "colorbar": {
              "outlinewidth": 0,
              "ticks": ""
             }
            },
            "type": "parcoords"
           }
          ],
          "pie": [
           {
            "automargin": true,
            "type": "pie"
           }
          ],
          "scatter": [
           {
            "fillpattern": {
             "fillmode": "overlay",
             "size": 10,
             "solidity": 0.2
            },
            "type": "scatter"
           }
          ],
          "scatter3d": [
           {
            "line": {
             "colorbar": {
              "outlinewidth": 0,
              "ticks": ""
             }
            },
            "marker": {
             "colorbar": {
              "outlinewidth": 0,
              "ticks": ""
             }
            },
            "type": "scatter3d"
           }
          ],
          "scattercarpet": [
           {
            "marker": {
             "colorbar": {
              "outlinewidth": 0,
              "ticks": ""
             }
            },
            "type": "scattercarpet"
           }
          ],
          "scattergeo": [
           {
            "marker": {
             "colorbar": {
              "outlinewidth": 0,
              "ticks": ""
             }
            },
            "type": "scattergeo"
           }
          ],
          "scattergl": [
           {
            "marker": {
             "colorbar": {
              "outlinewidth": 0,
              "ticks": ""
             }
            },
            "type": "scattergl"
           }
          ],
          "scattermapbox": [
           {
            "marker": {
             "colorbar": {
              "outlinewidth": 0,
              "ticks": ""
             }
            },
            "type": "scattermapbox"
           }
          ],
          "scatterpolar": [
           {
            "marker": {
             "colorbar": {
              "outlinewidth": 0,
              "ticks": ""
             }
            },
            "type": "scatterpolar"
           }
          ],
          "scatterpolargl": [
           {
            "marker": {
             "colorbar": {
              "outlinewidth": 0,
              "ticks": ""
             }
            },
            "type": "scatterpolargl"
           }
          ],
          "scatterternary": [
           {
            "marker": {
             "colorbar": {
              "outlinewidth": 0,
              "ticks": ""
             }
            },
            "type": "scatterternary"
           }
          ],
          "surface": [
           {
            "colorbar": {
             "outlinewidth": 0,
             "ticks": ""
            },
            "colorscale": [
             [
              0,
              "#0d0887"
             ],
             [
              0.1111111111111111,
              "#46039f"
             ],
             [
              0.2222222222222222,
              "#7201a8"
             ],
             [
              0.3333333333333333,
              "#9c179e"
             ],
             [
              0.4444444444444444,
              "#bd3786"
             ],
             [
              0.5555555555555556,
              "#d8576b"
             ],
             [
              0.6666666666666666,
              "#ed7953"
             ],
             [
              0.7777777777777778,
              "#fb9f3a"
             ],
             [
              0.8888888888888888,
              "#fdca26"
             ],
             [
              1,
              "#f0f921"
             ]
            ],
            "type": "surface"
           }
          ],
          "table": [
           {
            "cells": {
             "fill": {
              "color": "#EBF0F8"
             },
             "line": {
              "color": "white"
             }
            },
            "header": {
             "fill": {
              "color": "#C8D4E3"
             },
             "line": {
              "color": "white"
             }
            },
            "type": "table"
           }
          ]
         },
         "layout": {
          "annotationdefaults": {
           "arrowcolor": "#2a3f5f",
           "arrowhead": 0,
           "arrowwidth": 1
          },
          "autotypenumbers": "strict",
          "coloraxis": {
           "colorbar": {
            "outlinewidth": 0,
            "ticks": ""
           }
          },
          "colorscale": {
           "diverging": [
            [
             0,
             "#8e0152"
            ],
            [
             0.1,
             "#c51b7d"
            ],
            [
             0.2,
             "#de77ae"
            ],
            [
             0.3,
             "#f1b6da"
            ],
            [
             0.4,
             "#fde0ef"
            ],
            [
             0.5,
             "#f7f7f7"
            ],
            [
             0.6,
             "#e6f5d0"
            ],
            [
             0.7,
             "#b8e186"
            ],
            [
             0.8,
             "#7fbc41"
            ],
            [
             0.9,
             "#4d9221"
            ],
            [
             1,
             "#276419"
            ]
           ],
           "sequential": [
            [
             0,
             "#0d0887"
            ],
            [
             0.1111111111111111,
             "#46039f"
            ],
            [
             0.2222222222222222,
             "#7201a8"
            ],
            [
             0.3333333333333333,
             "#9c179e"
            ],
            [
             0.4444444444444444,
             "#bd3786"
            ],
            [
             0.5555555555555556,
             "#d8576b"
            ],
            [
             0.6666666666666666,
             "#ed7953"
            ],
            [
             0.7777777777777778,
             "#fb9f3a"
            ],
            [
             0.8888888888888888,
             "#fdca26"
            ],
            [
             1,
             "#f0f921"
            ]
           ],
           "sequentialminus": [
            [
             0,
             "#0d0887"
            ],
            [
             0.1111111111111111,
             "#46039f"
            ],
            [
             0.2222222222222222,
             "#7201a8"
            ],
            [
             0.3333333333333333,
             "#9c179e"
            ],
            [
             0.4444444444444444,
             "#bd3786"
            ],
            [
             0.5555555555555556,
             "#d8576b"
            ],
            [
             0.6666666666666666,
             "#ed7953"
            ],
            [
             0.7777777777777778,
             "#fb9f3a"
            ],
            [
             0.8888888888888888,
             "#fdca26"
            ],
            [
             1,
             "#f0f921"
            ]
           ]
          },
          "colorway": [
           "#636efa",
           "#EF553B",
           "#00cc96",
           "#ab63fa",
           "#FFA15A",
           "#19d3f3",
           "#FF6692",
           "#B6E880",
           "#FF97FF",
           "#FECB52"
          ],
          "font": {
           "color": "#2a3f5f"
          },
          "geo": {
           "bgcolor": "white",
           "lakecolor": "white",
           "landcolor": "#E5ECF6",
           "showlakes": true,
           "showland": true,
           "subunitcolor": "white"
          },
          "hoverlabel": {
           "align": "left"
          },
          "hovermode": "closest",
          "mapbox": {
           "style": "light"
          },
          "paper_bgcolor": "white",
          "plot_bgcolor": "#E5ECF6",
          "polar": {
           "angularaxis": {
            "gridcolor": "white",
            "linecolor": "white",
            "ticks": ""
           },
           "bgcolor": "#E5ECF6",
           "radialaxis": {
            "gridcolor": "white",
            "linecolor": "white",
            "ticks": ""
           }
          },
          "scene": {
           "xaxis": {
            "backgroundcolor": "#E5ECF6",
            "gridcolor": "white",
            "gridwidth": 2,
            "linecolor": "white",
            "showbackground": true,
            "ticks": "",
            "zerolinecolor": "white"
           },
           "yaxis": {
            "backgroundcolor": "#E5ECF6",
            "gridcolor": "white",
            "gridwidth": 2,
            "linecolor": "white",
            "showbackground": true,
            "ticks": "",
            "zerolinecolor": "white"
           },
           "zaxis": {
            "backgroundcolor": "#E5ECF6",
            "gridcolor": "white",
            "gridwidth": 2,
            "linecolor": "white",
            "showbackground": true,
            "ticks": "",
            "zerolinecolor": "white"
           }
          },
          "shapedefaults": {
           "line": {
            "color": "#2a3f5f"
           }
          },
          "ternary": {
           "aaxis": {
            "gridcolor": "white",
            "linecolor": "white",
            "ticks": ""
           },
           "baxis": {
            "gridcolor": "white",
            "linecolor": "white",
            "ticks": ""
           },
           "bgcolor": "#E5ECF6",
           "caxis": {
            "gridcolor": "white",
            "linecolor": "white",
            "ticks": ""
           }
          },
          "title": {
           "x": 0.05
          },
          "xaxis": {
           "automargin": true,
           "gridcolor": "white",
           "linecolor": "white",
           "ticks": "",
           "title": {
            "standoff": 15
           },
           "zerolinecolor": "white",
           "zerolinewidth": 2
          },
          "yaxis": {
           "automargin": true,
           "gridcolor": "white",
           "linecolor": "white",
           "ticks": "",
           "title": {
            "standoff": 15
           },
           "zerolinecolor": "white",
           "zerolinewidth": 2
          }
         }
        },
        "title": {
         "text": "Modelo x Simulação: n=100; s=40; p=0.01",
         "x": 0.5,
         "xanchor": "center"
        },
        "xaxis": {
         "title": {
          "text": "Tempo (k)"
         }
        },
        "yaxis": {
         "title": {
          "text": "Densidade de Probabilidade"
         }
        }
       }
      }
     },
     "metadata": {},
     "output_type": "display_data"
    }
   ],
   "source": [
    "def compare_model_and_sim(n: int, s: int, p: float):\n",
    "    sim_demo_a = load_or_generate_simulation(1000000, n, p, s)\n",
    "\n",
    "    xs, sim_ys =  build_pmf(sim_demo_a)\n",
    "    model_ys = models.tnbinom.pmf(xs, n, s, p)\n",
    "\n",
    "    fig = go.Figure(data=[\n",
    "        go.Bar(name=\"Modelo\", x=xs, y=model_ys),\n",
    "        go.Bar(name=\"Simulação\", x=xs, y=sim_ys)\n",
    "    ])\n",
    "    fig.update_layout(barmode=\"group\", title={\n",
    "        'text': f\"Modelo x Simulação: n={n}; s={s}; p={p}\",\n",
    "        'xanchor': 'center',\n",
    "        'x': 0.5\n",
    "        },\n",
    "                      xaxis_title=\"Tempo (k)\",\n",
    "                      yaxis_title=\"Densidade de Probabilidade\")\n",
    "    fig.show()\n",
    "\n",
    "    \n",
    "compare_model_and_sim(50, 25, 0.005)\n",
    "compare_model_and_sim(100, 25, 0.007)\n",
    "compare_model_and_sim(100, 40, 0.01)\n"
   ]
  },
  {
   "cell_type": "code",
   "execution_count": null,
   "metadata": {},
   "outputs": [],
   "source": []
  }
 ],
 "metadata": {
  "kernelspec": {
   "display_name": "usp-stats",
   "language": "python",
   "name": "python3"
  },
  "language_info": {
   "codemirror_mode": {
    "name": "ipython",
    "version": 3
   },
   "file_extension": ".py",
   "mimetype": "text/x-python",
   "name": "python",
   "nbconvert_exporter": "python",
   "pygments_lexer": "ipython3",
   "version": "3.10.8"
  },
  "orig_nbformat": 4,
  "vscode": {
   "interpreter": {
    "hash": "58a5b9463fd09383ec9c2aa50d538124093a947053b07431d645370ab2667d3e"
   }
  }
 },
 "nbformat": 4,
 "nbformat_minor": 2
}
